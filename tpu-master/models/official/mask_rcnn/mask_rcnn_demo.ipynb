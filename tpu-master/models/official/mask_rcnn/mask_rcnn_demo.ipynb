{
 "cells": [
  {
   "cell_type": "markdown",
   "metadata": {
    "colab_type": "text",
    "id": "t_iHs_wm2Mhh"
   },
   "source": [
    "# Mask R-CNN Image Segmentation Demo\n",
    "This Colab enables you to use a Mask R-CNN model that was trained on Cloud TPU to perform instance segmentation on a sample input image. The resulting predictions are overlayed on the sample image as boxes, instance masks, and labels. You can also experiment with your own images by editing the input image URL.\n",
    "\n",
    "### About Mask R-CNN\n",
    "The Mask R-CNN model addresses one of the most difficult computer vision challenges: image segmentation. Image segmentation is the task of detecting and distinguishing multiple objects within a single image. In particular, Mask R-CNN performs \"instance segmentation,\" which means that different instances of the same type of object in the input image, for example, car, should be assigned distinct labels."
   ]
  },
  {
   "cell_type": "markdown",
   "metadata": {
    "colab_type": "text",
    "id": "DL_0tSC67biu"
   },
   "source": [
    "# Instructions\n",
    "<h3><a href=\"https://cloud.google.com/tpu/\"><img valign=\"middle\" src=\"https://raw.githubusercontent.com/GoogleCloudPlatform/tensorflow-without-a-phd/master/tensorflow-rl-pong/images/tpu-hexagon.png\" width=\"50\"></a>  &nbsp;&nbsp;Use a free Cloud TPU</h3>\n",
    " \n",
    "   1. On the main menu, click Runtime and select **Change runtime type**. Set \"TPU\" as the hardware accelerator.\n",
    "   2. Click Runtime again and select **Runtime > Run All**. You can also run the cells manually with Shift-ENTER."
   ]
  },
  {
   "cell_type": "markdown",
   "metadata": {
    "colab_type": "text",
    "id": "ODxpKwkNFrBk"
   },
   "source": [
    "## Download the source code\n",
    "Download the source code of the Mask R-CNN model."
   ]
  },
  {
   "cell_type": "code",
   "execution_count": 0,
   "metadata": {
    "colab": {
     "base_uri": "https://localhost:8080/",
     "height": 102
    },
    "colab_type": "code",
    "id": "rUaCGBUQFgiq",
    "outputId": "3c5584b4-eff6-4bd7-ecd0-5e39431158dc"
   },
   "outputs": [
    {
     "name": "stdout",
     "output_type": "stream",
     "text": [
      "Cloning into 'tpu'...\n",
      "remote: Enumerating objects: 3164, done.\u001b[K\n",
      "remote: Total 3164 (delta 0), reused 0 (delta 0), pack-reused 3164\u001b[K\n",
      "Receiving objects: 100% (3164/3164), 7.83 MiB | 22.97 MiB/s, done.\n",
      "Resolving deltas: 100% (1997/1997), done.\n"
     ]
    }
   ],
   "source": [
    "!git clone https://github.com/tensorflow/tpu/"
   ]
  },
  {
   "cell_type": "markdown",
   "metadata": {
    "colab_type": "text",
    "id": "RPbB7s8hPHfO"
   },
   "source": [
    "## Import libraries"
   ]
  },
  {
   "cell_type": "code",
   "execution_count": 23,
   "metadata": {
    "colab": {},
    "colab_type": "code",
    "id": "6EtGbyNc8VgS"
   },
   "outputs": [
    {
     "ename": "ModuleNotFoundError",
     "evalue": "No module named 'pycocotools._mask'",
     "output_type": "error",
     "traceback": [
      "\u001b[1;31m---------------------------------------------------------------------------\u001b[0m",
      "\u001b[1;31mModuleNotFoundError\u001b[0m                       Traceback (most recent call last)",
      "\u001b[1;32m<ipython-input-23-2f2870eedb29>\u001b[0m in \u001b[0;36m<module>\u001b[1;34m\u001b[0m\n\u001b[0;32m      7\u001b[0m \u001b[0msys\u001b[0m\u001b[1;33m.\u001b[0m\u001b[0mpath\u001b[0m\u001b[1;33m.\u001b[0m\u001b[0minsert\u001b[0m\u001b[1;33m(\u001b[0m\u001b[1;36m0\u001b[0m\u001b[1;33m,\u001b[0m \u001b[1;34m'tpu/models/official'\u001b[0m\u001b[1;33m)\u001b[0m\u001b[1;33m\u001b[0m\u001b[1;33m\u001b[0m\u001b[0m\n\u001b[0;32m      8\u001b[0m \u001b[0msys\u001b[0m\u001b[1;33m.\u001b[0m\u001b[0mpath\u001b[0m\u001b[1;33m.\u001b[0m\u001b[0minsert\u001b[0m\u001b[1;33m(\u001b[0m\u001b[1;36m0\u001b[0m\u001b[1;33m,\u001b[0m \u001b[1;34m'tpu/models/official/mask_rcnn'\u001b[0m\u001b[1;33m)\u001b[0m\u001b[1;33m\u001b[0m\u001b[1;33m\u001b[0m\u001b[0m\n\u001b[1;32m----> 9\u001b[1;33m \u001b[1;32mimport\u001b[0m \u001b[0mcoco_metric\u001b[0m\u001b[1;33m\u001b[0m\u001b[1;33m\u001b[0m\u001b[0m\n\u001b[0m\u001b[0;32m     10\u001b[0m \u001b[1;32mfrom\u001b[0m \u001b[0mmask_rcnn\u001b[0m\u001b[1;33m.\u001b[0m\u001b[0mobject_detection\u001b[0m \u001b[1;32mimport\u001b[0m \u001b[0mvisualization_utils\u001b[0m\u001b[1;33m\u001b[0m\u001b[1;33m\u001b[0m\u001b[0m\n",
      "\u001b[1;32m~\\Downloads\\tpu-master\\tpu-master\\models\\official\\mask_rcnn\\coco_metric.py\u001b[0m in \u001b[0;36m<module>\u001b[1;34m\u001b[0m\n\u001b[0;32m     26\u001b[0m \u001b[1;32mimport\u001b[0m \u001b[0mtempfile\u001b[0m\u001b[1;33m\u001b[0m\u001b[1;33m\u001b[0m\u001b[0m\n\u001b[0;32m     27\u001b[0m \u001b[1;32mimport\u001b[0m \u001b[0mnumpy\u001b[0m \u001b[1;32mas\u001b[0m \u001b[0mnp\u001b[0m\u001b[1;33m\u001b[0m\u001b[1;33m\u001b[0m\u001b[0m\n\u001b[1;32m---> 28\u001b[1;33m \u001b[1;32mfrom\u001b[0m \u001b[0mpycocotools\u001b[0m\u001b[1;33m.\u001b[0m\u001b[0mcoco\u001b[0m \u001b[1;32mimport\u001b[0m \u001b[0mCOCO\u001b[0m\u001b[1;33m\u001b[0m\u001b[1;33m\u001b[0m\u001b[0m\n\u001b[0m\u001b[0;32m     29\u001b[0m \u001b[1;32mfrom\u001b[0m \u001b[0mpycocotools\u001b[0m\u001b[1;33m.\u001b[0m\u001b[0mcocoeval\u001b[0m \u001b[1;32mimport\u001b[0m \u001b[0mCOCOeval\u001b[0m\u001b[1;33m\u001b[0m\u001b[1;33m\u001b[0m\u001b[0m\n\u001b[0;32m     30\u001b[0m \u001b[1;32mimport\u001b[0m \u001b[0mpycocotools\u001b[0m\u001b[1;33m.\u001b[0m\u001b[0mmask\u001b[0m \u001b[1;32mas\u001b[0m \u001b[0mmaskUtils\u001b[0m\u001b[1;33m\u001b[0m\u001b[1;33m\u001b[0m\u001b[0m\n",
      "\u001b[1;32m~\\Downloads\\tpu-master\\tpu-master\\models\\official\\mask_rcnn\\pycocotools\\coco.py\u001b[0m in \u001b[0;36m<module>\u001b[1;34m\u001b[0m\n\u001b[0;32m     53\u001b[0m \u001b[1;32mimport\u001b[0m \u001b[0mcopy\u001b[0m\u001b[1;33m\u001b[0m\u001b[1;33m\u001b[0m\u001b[0m\n\u001b[0;32m     54\u001b[0m \u001b[1;32mimport\u001b[0m \u001b[0mitertools\u001b[0m\u001b[1;33m\u001b[0m\u001b[1;33m\u001b[0m\u001b[0m\n\u001b[1;32m---> 55\u001b[1;33m \u001b[1;32mfrom\u001b[0m \u001b[1;33m.\u001b[0m \u001b[1;32mimport\u001b[0m \u001b[0mmask\u001b[0m \u001b[1;32mas\u001b[0m \u001b[0mmaskUtils\u001b[0m\u001b[1;33m\u001b[0m\u001b[1;33m\u001b[0m\u001b[0m\n\u001b[0m\u001b[0;32m     56\u001b[0m \u001b[1;32mimport\u001b[0m \u001b[0mos\u001b[0m\u001b[1;33m\u001b[0m\u001b[1;33m\u001b[0m\u001b[0m\n\u001b[0;32m     57\u001b[0m \u001b[1;32mfrom\u001b[0m \u001b[0mcollections\u001b[0m \u001b[1;32mimport\u001b[0m \u001b[0mdefaultdict\u001b[0m\u001b[1;33m\u001b[0m\u001b[1;33m\u001b[0m\u001b[0m\n",
      "\u001b[1;32m~\\Downloads\\tpu-master\\tpu-master\\models\\official\\mask_rcnn\\pycocotools\\mask.py\u001b[0m in \u001b[0;36m<module>\u001b[1;34m\u001b[0m\n\u001b[0;32m      1\u001b[0m \u001b[0m__author__\u001b[0m \u001b[1;33m=\u001b[0m \u001b[1;34m'tsungyi'\u001b[0m\u001b[1;33m\u001b[0m\u001b[1;33m\u001b[0m\u001b[0m\n\u001b[0;32m      2\u001b[0m \u001b[1;33m\u001b[0m\u001b[0m\n\u001b[1;32m----> 3\u001b[1;33m \u001b[1;32mimport\u001b[0m \u001b[0mpycocotools\u001b[0m\u001b[1;33m.\u001b[0m\u001b[0m_mask\u001b[0m \u001b[1;32mas\u001b[0m \u001b[0m_mask\u001b[0m\u001b[1;33m\u001b[0m\u001b[1;33m\u001b[0m\u001b[0m\n\u001b[0m\u001b[0;32m      4\u001b[0m \u001b[1;33m\u001b[0m\u001b[0m\n\u001b[0;32m      5\u001b[0m \u001b[1;31m# Interface for manipulating masks stored in RLE format.\u001b[0m\u001b[1;33m\u001b[0m\u001b[1;33m\u001b[0m\u001b[1;33m\u001b[0m\u001b[0m\n",
      "\u001b[1;31mModuleNotFoundError\u001b[0m: No module named 'pycocotools._mask'"
     ]
    }
   ],
   "source": [
    "from IPython import display\n",
    "from PIL import Image\n",
    "import numpy as np\n",
    "#%tensorflow_version 1.x\n",
    "import tensorflow as tf\n",
    "import sys\n",
    "sys.path.insert(0, 'tpu/models/official')\n",
    "sys.path.insert(0, 'tpu/models/official/mask_rcnn')\n",
    "import coco_metric\n",
    "from mask_rcnn.object_detection import visualization_utils"
   ]
  },
  {
   "cell_type": "markdown",
   "metadata": {
    "colab_type": "text",
    "id": "vkTSG22ePKkz"
   },
   "source": [
    "## Load the COCO index mapping\n",
    "This Colab uses a pretrained checkpoint of the Mask R-CNN model that is trained using the COCO dataset. Here is the mapping between the indices that the model predicts and the categories in text."
   ]
  },
  {
   "cell_type": "code",
   "execution_count": 2,
   "metadata": {
    "colab": {},
    "colab_type": "code",
    "id": "_Q5r1zob93OF"
   },
   "outputs": [],
   "source": [
    "ID_MAPPING = {\n",
    "    1: 'person',\n",
    "    2: 'bicycle',\n",
    "    3: 'car',\n",
    "    4: 'motorcycle',\n",
    "    5: 'airplane',\n",
    "    6: 'bus',\n",
    "    7: 'train',\n",
    "    8: 'truck',\n",
    "    9: 'boat',\n",
    "    10: 'traffic light',\n",
    "    11: 'fire hydrant',\n",
    "    13: 'stop sign',\n",
    "    14: 'parking meter',\n",
    "    15: 'bench',\n",
    "    16: 'bird',\n",
    "    17: 'cat',\n",
    "    18: 'dog',\n",
    "    19: 'horse',\n",
    "    20: 'sheep',\n",
    "    21: 'cow',\n",
    "    22: 'elephant',\n",
    "    23: 'bear',\n",
    "    24: 'zebra',\n",
    "    25: 'giraffe',\n",
    "    27: 'backpack',\n",
    "    28: 'umbrella',\n",
    "    31: 'handbag',\n",
    "    32: 'tie',\n",
    "    33: 'suitcase',\n",
    "    34: 'frisbee',\n",
    "    35: 'skis',\n",
    "    36: 'snowboard',\n",
    "    37: 'sports ball',\n",
    "    38: 'kite',\n",
    "    39: 'baseball bat',\n",
    "    40: 'baseball glove',\n",
    "    41: 'skateboard',\n",
    "    42: 'surfboard',\n",
    "    43: 'tennis racket',\n",
    "    44: 'bottle',\n",
    "    46: 'wine glass',\n",
    "    47: 'cup',\n",
    "    48: 'fork',\n",
    "    49: 'knife',\n",
    "    50: 'spoon',\n",
    "    51: 'bowl',\n",
    "    52: 'banana',\n",
    "    53: 'apple',\n",
    "    54: 'sandwich',\n",
    "    55: 'orange',\n",
    "    56: 'broccoli',\n",
    "    57: 'carrot',\n",
    "    58: 'hot dog',\n",
    "    59: 'pizza',\n",
    "    60: 'donut',\n",
    "    61: 'cake',\n",
    "    62: 'chair',\n",
    "    63: 'couch',\n",
    "    64: 'potted plant',\n",
    "    65: 'bed',\n",
    "    67: 'dining table',\n",
    "    70: 'toilet',\n",
    "    72: 'tv',\n",
    "    73: 'laptop',\n",
    "    74: 'mouse',\n",
    "    75: 'remote',\n",
    "    76: 'keyboard',\n",
    "    77: 'cell phone',\n",
    "    78: 'microwave',\n",
    "    79: 'oven',\n",
    "    80: 'toaster',\n",
    "    81: 'sink',\n",
    "    82: 'refrigerator',\n",
    "    84: 'book',\n",
    "    85: 'clock',\n",
    "    86: 'vase',\n",
    "    87: 'scissors',\n",
    "    88: 'teddy bear',\n",
    "    89: 'hair drier',\n",
    "    90: 'toothbrush',\n",
    "}\n",
    "category_index = {k: {'id': k, 'name': ID_MAPPING[k]} for k in ID_MAPPING}"
   ]
  },
  {
   "cell_type": "markdown",
   "metadata": {
    "colab_type": "text",
    "id": "HngQNsyjXmvF"
   },
   "source": [
    "## Load an image\n",
    "Now, you can load an image. Use either the sample image included here, or update the field with an image of your choice."
   ]
  },
  {
   "cell_type": "code",
   "execution_count": 10,
   "metadata": {
    "colab": {
     "base_uri": "https://localhost:8080/",
     "height": 907
    },
    "colab_type": "code",
    "id": "2oZWLz4xXsyQ",
    "outputId": "b2bf19df-1a86-4cb6-eaec-4dff3ca2fa14"
   },
   "outputs": [
    {
     "data": {
      "image/jpeg": "[encoded data removed]",
      "text/plain": [
       "<IPython.core.display.Image object>"
      ]
     },
     "metadata": {
      "image/jpeg": {
       "width": 1024
      }
     },
     "output_type": "display_data"
    }
   ],
   "source": [
    "#!wget https://upload.wikimedia.org/wikipedia/commons/thumb/0/08/Kitano_Street_Kobe01s5s4110.jpg/2560px-Kitano_Street_Kobe01s5s4110.jpg -O test.jpg\n",
    "image_path = '../../1.jpeg'\n",
    "\n",
    "with open(image_path, 'rb') as f:\n",
    "  np_image_string = np.array([f.read()])\n",
    "  \n",
    "image = Image.open(image_path)\n",
    "width, height = image.size\n",
    "np_image = np.array(image.getdata()).reshape(height, width, 3).astype(np.uint8)\n",
    "\n",
    "display.display(display.Image(image_path, width=1024))"
   ]
  },
  {
   "cell_type": "markdown",
   "metadata": {
    "colab_type": "text",
    "id": "uwrFI4C9Vvam"
   },
   "source": [
    "## Create a Tensorflow session\n",
    "Now let us create a Tensorflow session to run the inference. You can either connect to a TPU or a normal CPU backend."
   ]
  },
  {
   "cell_type": "code",
   "execution_count": 12,
   "metadata": {
    "colab": {
     "base_uri": "https://localhost:8080/",
     "height": 238
    },
    "colab_type": "code",
    "id": "X0G-tk6wakcr",
    "outputId": "5b373b6a-2745-4ab6-eb22-9fd2e914ef53",
    "scrolled": true
   },
   "outputs": [
    {
     "ename": "AssertionError",
     "evalue": "ERROR: Not connected to a TPU runtime; please see the first cell in this notebook for instructions!",
     "output_type": "error",
     "traceback": [
      "\u001b[1;31m---------------------------------------------------------------------------\u001b[0m",
      "\u001b[1;31mAssertionError\u001b[0m                            Traceback (most recent call last)",
      "\u001b[1;32m<ipython-input-12-b82bc0a42032>\u001b[0m in \u001b[0;36m<module>\u001b[1;34m\u001b[0m\n\u001b[0;32m      4\u001b[0m   \u001b[1;32mimport\u001b[0m \u001b[0mpprint\u001b[0m\u001b[1;33m\u001b[0m\u001b[1;33m\u001b[0m\u001b[0m\n\u001b[0;32m      5\u001b[0m \u001b[1;33m\u001b[0m\u001b[0m\n\u001b[1;32m----> 6\u001b[1;33m   \u001b[1;32massert\u001b[0m \u001b[1;34m'COLAB_TPU_ADDR'\u001b[0m \u001b[1;32min\u001b[0m \u001b[0mos\u001b[0m\u001b[1;33m.\u001b[0m\u001b[0menviron\u001b[0m\u001b[1;33m,\u001b[0m \u001b[1;34m'ERROR: Not connected to a TPU runtime; please see the first cell in this notebook for instructions!'\u001b[0m\u001b[1;33m\u001b[0m\u001b[1;33m\u001b[0m\u001b[0m\n\u001b[0m\u001b[0;32m      7\u001b[0m   \u001b[0mTPU_ADDRESS\u001b[0m \u001b[1;33m=\u001b[0m \u001b[1;34m'grpc://'\u001b[0m \u001b[1;33m+\u001b[0m \u001b[0mos\u001b[0m\u001b[1;33m.\u001b[0m\u001b[0menviron\u001b[0m\u001b[1;33m[\u001b[0m\u001b[1;34m'COLAB_TPU_ADDR'\u001b[0m\u001b[1;33m]\u001b[0m\u001b[1;33m\u001b[0m\u001b[1;33m\u001b[0m\u001b[0m\n\u001b[0;32m      8\u001b[0m   \u001b[0mprint\u001b[0m\u001b[1;33m(\u001b[0m\u001b[1;34m'TPU address is'\u001b[0m\u001b[1;33m,\u001b[0m \u001b[0mTPU_ADDRESS\u001b[0m\u001b[1;33m)\u001b[0m\u001b[1;33m\u001b[0m\u001b[1;33m\u001b[0m\u001b[0m\n",
      "\u001b[1;31mAssertionError\u001b[0m: ERROR: Not connected to a TPU runtime; please see the first cell in this notebook for instructions!"
     ]
    }
   ],
   "source": [
    "use_tpu = True #@param {type:\"boolean\"}\n",
    "if use_tpu:\n",
    "  import os\n",
    "  import pprint\n",
    "\n",
    "  assert 'COLAB_TPU_ADDR' in os.environ, 'ERROR: Not connected to a TPU runtime; please see the first cell in this notebook for instructions!'\n",
    "  TPU_ADDRESS = 'grpc://' + os.environ['COLAB_TPU_ADDR']\n",
    "  print('TPU address is', TPU_ADDRESS)\n",
    "\n",
    "  session = tf.Session(TPU_ADDRESS, graph=tf.Graph())\n",
    "  print('TPU devices:')\n",
    "  pprint.pprint(session.list_devices())\n",
    "else:\n",
    "  session = tf.Session(graph=tf.Graph())"
   ]
  },
  {
   "cell_type": "markdown",
   "metadata": {
    "colab_type": "text",
    "id": "YtXyXw6EaKRj"
   },
   "source": [
    "# Load the pretrained model\n",
    "Loading the COCO pretrained saved model from the public GCS bucket. "
   ]
  },
  {
   "cell_type": "code",
   "execution_count": 13,
   "metadata": {
    "colab": {
     "base_uri": "https://localhost:8080/",
     "height": 156
    },
    "colab_type": "code",
    "id": "6lCL-ZcwaJbA",
    "outputId": "59713c48-3e7b-4886-d2b3-211ac92a54df"
   },
   "outputs": [
    {
     "ename": "NameError",
     "evalue": "name 'tf' is not defined",
     "output_type": "error",
     "traceback": [
      "\u001b[1;31m---------------------------------------------------------------------------\u001b[0m",
      "\u001b[1;31mNameError\u001b[0m                                 Traceback (most recent call last)",
      "\u001b[1;32m<ipython-input-13-9cb25c67e8d4>\u001b[0m in \u001b[0;36m<module>\u001b[1;34m\u001b[0m\n\u001b[0;32m      1\u001b[0m \u001b[0msaved_model_dir\u001b[0m \u001b[1;33m=\u001b[0m \u001b[1;34m'gs://cloud-tpu-checkpoints/mask-rcnn/1555659850'\u001b[0m \u001b[1;31m#@param {type:\"string\"}\u001b[0m\u001b[1;33m\u001b[0m\u001b[1;33m\u001b[0m\u001b[0m\n\u001b[1;32m----> 2\u001b[1;33m \u001b[0m_\u001b[0m \u001b[1;33m=\u001b[0m \u001b[0mtf\u001b[0m\u001b[1;33m.\u001b[0m\u001b[0msaved_model\u001b[0m\u001b[1;33m.\u001b[0m\u001b[0mloader\u001b[0m\u001b[1;33m.\u001b[0m\u001b[0mload\u001b[0m\u001b[1;33m(\u001b[0m\u001b[0msession\u001b[0m\u001b[1;33m,\u001b[0m \u001b[1;33m[\u001b[0m\u001b[1;34m'serve'\u001b[0m\u001b[1;33m]\u001b[0m\u001b[1;33m,\u001b[0m \u001b[0msaved_model_dir\u001b[0m\u001b[1;33m)\u001b[0m\u001b[1;33m\u001b[0m\u001b[1;33m\u001b[0m\u001b[0m\n\u001b[0m",
      "\u001b[1;31mNameError\u001b[0m: name 'tf' is not defined"
     ]
    }
   ],
   "source": [
    "saved_model_dir = 'gs://cloud-tpu-checkpoints/mask-rcnn/1555659850' #@param {type:\"string\"}\n",
    "_ = tf.saved_model.loader.load(session, ['serve'], saved_model_dir)"
   ]
  },
  {
   "cell_type": "markdown",
   "metadata": {
    "colab_type": "text",
    "id": "cjHuO49maf6R"
   },
   "source": [
    "## Perform instance segmentation and retrieve the predictions\n",
    "Now let's run the inference and process the predictions from the model.\n"
   ]
  },
  {
   "cell_type": "code",
   "execution_count": 14,
   "metadata": {
    "colab": {},
    "colab_type": "code",
    "id": "qENTOHzZcaWC"
   },
   "outputs": [
    {
     "ename": "NameError",
     "evalue": "name 'session' is not defined",
     "output_type": "error",
     "traceback": [
      "\u001b[1;31m---------------------------------------------------------------------------\u001b[0m",
      "\u001b[1;31mNameError\u001b[0m                                 Traceback (most recent call last)",
      "\u001b[1;32m<ipython-input-14-3e497441a193>\u001b[0m in \u001b[0;36m<module>\u001b[1;34m\u001b[0m\n\u001b[1;32m----> 1\u001b[1;33m num_detections, detection_boxes, detection_classes, detection_scores, detection_masks, image_info = session.run(\n\u001b[0m\u001b[0;32m      2\u001b[0m     \u001b[1;33m[\u001b[0m\u001b[1;34m'NumDetections:0'\u001b[0m\u001b[1;33m,\u001b[0m \u001b[1;34m'DetectionBoxes:0'\u001b[0m\u001b[1;33m,\u001b[0m \u001b[1;34m'DetectionClasses:0'\u001b[0m\u001b[1;33m,\u001b[0m \u001b[1;34m'DetectionScores:0'\u001b[0m\u001b[1;33m,\u001b[0m \u001b[1;34m'DetectionMasks:0'\u001b[0m\u001b[1;33m,\u001b[0m \u001b[1;34m'ImageInfo:0'\u001b[0m\u001b[1;33m]\u001b[0m\u001b[1;33m,\u001b[0m\u001b[1;33m\u001b[0m\u001b[1;33m\u001b[0m\u001b[0m\n\u001b[0;32m      3\u001b[0m     feed_dict={'Placeholder:0': np_image_string})\n\u001b[0;32m      4\u001b[0m \u001b[1;33m\u001b[0m\u001b[0m\n\u001b[0;32m      5\u001b[0m \u001b[0mnum_detections\u001b[0m \u001b[1;33m=\u001b[0m \u001b[0mnp\u001b[0m\u001b[1;33m.\u001b[0m\u001b[0msqueeze\u001b[0m\u001b[1;33m(\u001b[0m\u001b[0mnum_detections\u001b[0m\u001b[1;33m.\u001b[0m\u001b[0mastype\u001b[0m\u001b[1;33m(\u001b[0m\u001b[0mnp\u001b[0m\u001b[1;33m.\u001b[0m\u001b[0mint32\u001b[0m\u001b[1;33m)\u001b[0m\u001b[1;33m,\u001b[0m \u001b[0maxis\u001b[0m\u001b[1;33m=\u001b[0m\u001b[1;33m(\u001b[0m\u001b[1;36m0\u001b[0m\u001b[1;33m,\u001b[0m\u001b[1;33m)\u001b[0m\u001b[1;33m)\u001b[0m\u001b[1;33m\u001b[0m\u001b[1;33m\u001b[0m\u001b[0m\n",
      "\u001b[1;31mNameError\u001b[0m: name 'session' is not defined"
     ]
    }
   ],
   "source": [
    "num_detections, detection_boxes, detection_classes, detection_scores, detection_masks, image_info = session.run(\n",
    "    ['NumDetections:0', 'DetectionBoxes:0', 'DetectionClasses:0', 'DetectionScores:0', 'DetectionMasks:0', 'ImageInfo:0'],\n",
    "    feed_dict={'Placeholder:0': np_image_string})\n",
    "\n",
    "num_detections = np.squeeze(num_detections.astype(np.int32), axis=(0,))\n",
    "detection_boxes = np.squeeze(detection_boxes * image_info[0, 2], axis=(0,))[0:num_detections]\n",
    "detection_scores = np.squeeze(detection_scores, axis=(0,))[0:num_detections]\n",
    "detection_classes = np.squeeze(detection_classes.astype(np.int32), axis=(0,))[0:num_detections]\n",
    "instance_masks = np.squeeze(detection_masks, axis=(0,))[0:num_detections]\n",
    "ymin, xmin, ymax, xmax = np.split(detection_boxes, 4, axis=-1)\n",
    "processed_boxes = np.concatenate([xmin, ymin, xmax - xmin, ymax - ymin], axis=-1)\n",
    "segmentations = coco_metric.generate_segmentation_from_masks(instance_masks, processed_boxes, height, width)"
   ]
  },
  {
   "cell_type": "markdown",
   "metadata": {
    "colab_type": "text",
    "id": "lLJqU56RdgjV"
   },
   "source": [
    "## Visualize the detection results\n",
    "Time to check out the result!"
   ]
  },
  {
   "cell_type": "code",
   "execution_count": 15,
   "metadata": {
    "colab": {
     "base_uri": "https://localhost:8080/",
     "height": 700
    },
    "colab_type": "code",
    "id": "CuDqEsMzdHfF",
    "outputId": "d3260f62-9b22-4306-e2bf-7bc552b5795a"
   },
   "outputs": [
    {
     "ename": "NameError",
     "evalue": "name 'visualization_utils' is not defined",
     "output_type": "error",
     "traceback": [
      "\u001b[1;31m---------------------------------------------------------------------------\u001b[0m",
      "\u001b[1;31mNameError\u001b[0m                                 Traceback (most recent call last)",
      "\u001b[1;32m<ipython-input-15-b3e0d04f2d13>\u001b[0m in \u001b[0;36m<module>\u001b[1;34m\u001b[0m\n\u001b[0;32m      2\u001b[0m \u001b[0mmin_score_thresh\u001b[0m \u001b[1;33m=\u001b[0m \u001b[1;36m0.1\u001b[0m    \u001b[1;31m#@param {type:\"slider\", min:0, max:1, step:0.01}\u001b[0m\u001b[1;33m\u001b[0m\u001b[1;33m\u001b[0m\u001b[0m\n\u001b[0;32m      3\u001b[0m \u001b[1;33m\u001b[0m\u001b[0m\n\u001b[1;32m----> 4\u001b[1;33m image_with_detections = visualization_utils.visualize_boxes_and_labels_on_image_array(\n\u001b[0m\u001b[0;32m      5\u001b[0m     \u001b[0mnp_image\u001b[0m\u001b[1;33m,\u001b[0m\u001b[1;33m\u001b[0m\u001b[1;33m\u001b[0m\u001b[0m\n\u001b[0;32m      6\u001b[0m     \u001b[0mdetection_boxes\u001b[0m\u001b[1;33m,\u001b[0m\u001b[1;33m\u001b[0m\u001b[1;33m\u001b[0m\u001b[0m\n",
      "\u001b[1;31mNameError\u001b[0m: name 'visualization_utils' is not defined"
     ]
    }
   ],
   "source": [
    "max_boxes_to_draw = 50   #@param {type:\"integer\"}\n",
    "min_score_thresh = 0.1    #@param {type:\"slider\", min:0, max:1, step:0.01}\n",
    "\n",
    "image_with_detections = visualization_utils.visualize_boxes_and_labels_on_image_array(\n",
    "    np_image,\n",
    "    detection_boxes,\n",
    "    detection_classes,\n",
    "    detection_scores,\n",
    "    category_index,\n",
    "    instance_masks=segmentations,\n",
    "    use_normalized_coordinates=False,\n",
    "    max_boxes_to_draw=max_boxes_to_draw,\n",
    "    min_score_thresh=min_score_thresh)\n",
    "output_image_path = 'test_results.jpg'\n",
    "Image.fromarray(image_with_detections.astype(np.uint8)).save(output_image_path)\n",
    "display.display(display.Image(output_image_path, width=1024))"
   ]
  },
  {
   "cell_type": "markdown",
   "metadata": {
    "colab_type": "text",
    "id": "hh-aS5Iz-SiQ"
   },
   "source": [
    "# What's next\n",
    "\n",
    "* Learn about [Cloud TPUs](https://cloud.google.com/tpu/docs) that Google designed and optimized specifically to speed up and scale up ML workloads for training and inference and to enable ML engineers and researchers to iterate more quickly.\n",
    "* Explore the range of [Cloud TPU tutorials and Colabs](https://cloud.google.com/tpu/docs/tutorials) to find other examples that can be used when implementing your ML project.\n",
    "* [Here's](https://cloud.google.com/tpu/docs/tutorials/mask-rcnn) a direct link to the Mask R-CNN tutorial.\n"
   ]
  }
 ],
 "metadata": {
  "accelerator": "TPU",
  "colab": {
   "collapsed_sections": [],
   "name": "Mask R-CNN Image Segmentation Demo",
   "provenance": [],
   "version": "0.3.2"
  },
  "kernelspec": {
   "display_name": "Python 3",
   "language": "python",
   "name": "python3"
  },
  "language_info": {
   "codemirror_mode": {
    "name": "ipython",
    "version": 3
   },
   "file_extension": ".py",
   "mimetype": "text/x-python",
   "name": "python",
   "nbconvert_exporter": "python",
   "pygments_lexer": "ipython3",
   "version": "3.7.6"
  }
 },
 "nbformat": 4,
 "nbformat_minor": 1
}
